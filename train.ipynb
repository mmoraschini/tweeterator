{
 "cells": [
  {
   "cell_type": "code",
   "execution_count": null,
   "metadata": {},
   "outputs": [],
   "source": [
    "import copy\n",
    "\n",
    "import numpy as np\n",
    "\n",
    "import tweeterator\n",
    "from loader import Loader\n",
    "from data_generator import DataGenerator"
   ]
  },
  {
   "cell_type": "code",
   "execution_count": null,
   "metadata": {},
   "outputs": [],
   "source": [
    "input = 'data/vicinitas_user_tweets.xlsx'\n",
    "net_type = 'GRU'\n",
    "latent_dim = 50\n",
    "window = 5\n",
    "dropout = 0\n",
    "batch_size = 32\n",
    "epochs = 100\n",
    "learning_rate = 0.0001\n",
    "perc_test = 0.2\n",
    "n_hidden_layers = 2\n",
    "regex_to_remove = ['^#.+:\\s+']"
   ]
  },
  {
   "cell_type": "code",
   "execution_count": null,
   "metadata": {},
   "outputs": [],
   "source": [
    "model, w2i, i2w = tweeterator.train(input, net_type, latent_dim, window, dropout, batch_size, epochs, learning_rate,\n",
    "                          perc_test, n_hidden_layers, regex_to_remove)"
   ]
  },
  {
   "cell_type": "code",
   "execution_count": null,
   "metadata": {},
   "outputs": [],
   "source": [
    "loader = Loader()\n",
    "data = loader.load(input, window=window + 1, regex_to_remove=regex_to_remove)\n",
    "generator = DataGenerator(data, w2i, window, batch_size)\n",
    "test_example = next(generator)[0]\n",
    "output = []\n",
    "for i in range(window):\n",
    "    word_int = test_example[0, i]\n",
    "    word = i2w[word_int]\n",
    "    output.append(word)\n",
    "\n",
    "for i in range(0, test_example.shape[0]):\n",
    "    reshaped = test_example[np.newaxis, i, :]\n",
    "    result = model(reshaped)\n",
    "    word_int = np.argmax(result)\n",
    "    word = i2w[word_int]\n",
    "    output.append(word)"
   ]
  },
  {
   "cell_type": "code",
   "execution_count": null,
   "metadata": {},
   "outputs": [],
   "source": [
    "' '.join(output)"
   ]
  },
  {
   "cell_type": "code",
   "execution_count": null,
   "metadata": {},
   "outputs": [],
   "source": []
  }
 ],
 "metadata": {
  "interpreter": {
   "hash": "f28d49bc86e1b30cc53634441a90f77c016f9cae5b9cd2f4304fa8d50ea4bfc9"
  },
  "kernelspec": {
   "display_name": "Python 3.9.7 64-bit ('text': conda)",
   "language": "python",
   "name": "python3"
  },
  "language_info": {
   "codemirror_mode": {
    "name": "ipython",
    "version": 3
   },
   "file_extension": ".py",
   "mimetype": "text/x-python",
   "name": "python",
   "nbconvert_exporter": "python",
   "pygments_lexer": "ipython3",
   "version": "3.9.7"
  },
  "orig_nbformat": 4
 },
 "nbformat": 4,
 "nbformat_minor": 2
}
