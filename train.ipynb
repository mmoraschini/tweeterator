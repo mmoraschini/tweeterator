{
 "cells": [
  {
   "cell_type": "code",
   "execution_count": 1,
   "metadata": {},
   "outputs": [
    {
     "name": "stderr",
     "output_type": "stream",
     "text": [
      "[nltk_data] Downloading package punkt to\n",
      "[nltk_data]     C:\\Users\\Marco\\AppData\\Roaming\\nltk_data...\n",
      "[nltk_data]   Package punkt is already up-to-date!\n"
     ]
    },
    {
     "name": "stdout",
     "output_type": "stream",
     "text": [
      "GPU found\n"
     ]
    }
   ],
   "source": [
    "import itertools\n",
    "\n",
    "import numpy as np\n",
    "import pandas as pd\n",
    "import matplotlib.pyplot as plt\n",
    "import nltk\n",
    "from tqdm import tqdm\n",
    "\n",
    "import tweeterator\n",
    "from loader import Loader\n",
    "from data_generator import DataGenerator"
   ]
  },
  {
   "cell_type": "markdown",
   "metadata": {},
   "source": [
    "# Setup"
   ]
  },
  {
   "cell_type": "markdown",
   "metadata": {},
   "source": [
    "Setup training parameters"
   ]
  },
  {
   "cell_type": "code",
   "execution_count": 2,
   "metadata": {},
   "outputs": [],
   "source": [
    "input = 'data/trump.csv'\n",
    "text_column = 'text'\n",
    "file_type = 'csv'\n",
    "net_type = 'LSTM'\n",
    "latent_dim = 64\n",
    "n_units = 256\n",
    "window = 5\n",
    "dropout = 0.2\n",
    "batch_size = 64\n",
    "epochs = 30\n",
    "learning_rate = 0.001\n",
    "perc_val = 0.2\n",
    "n_hidden_layers = 1\n",
    "regex_to_remove = ['^rt ']\n",
    "shuffle = True"
   ]
  },
  {
   "cell_type": "markdown",
   "metadata": {},
   "source": [
    "Initialise loader"
   ]
  },
  {
   "cell_type": "code",
   "execution_count": 3,
   "metadata": {},
   "outputs": [],
   "source": [
    "loader = Loader(flatten_hashtags=False, flatten_mentions=False)\n",
    "data = loader.load(input, file_type=file_type, text_column=text_column, window=window, regex_to_remove=regex_to_remove)\n",
    "data = np.array(data, dtype=object)"
   ]
  },
  {
   "cell_type": "markdown",
   "metadata": {},
   "source": [
    "# Inspect"
   ]
  },
  {
   "cell_type": "markdown",
   "metadata": {},
   "source": [
    "Look at loaded sentences"
   ]
  },
  {
   "cell_type": "code",
   "execution_count": 4,
   "metadata": {},
   "outputs": [
    {
     "name": "stdout",
     "output_type": "stream",
     "text": [
      "Number of words: 1020852\n",
      "Number of unique words: 61684\n"
     ]
    }
   ],
   "source": [
    "# Number of unique words\n",
    "print(f\"Number of words: {len(list(itertools.chain(*data)))}\")\n",
    "print(f\"Number of unique words: {len(set(itertools.chain(*data)))}\")"
   ]
  },
  {
   "cell_type": "markdown",
   "metadata": {},
   "source": [
    "Remove words that appear only once (probably typos, errors, etc.)"
   ]
  },
  {
   "cell_type": "code",
   "execution_count": 5,
   "metadata": {},
   "outputs": [],
   "source": [
    "flattened_text = list(itertools.chain(*data))\n",
    "vc = pd.value_counts(flattened_text)\n",
    "words_to_remove = vc[vc == 1].index"
   ]
  },
  {
   "cell_type": "code",
   "execution_count": 6,
   "metadata": {},
   "outputs": [
    {
     "data": {
      "text/plain": [
       "Index(['nh1', '@judicialwatc..', 'httpt.colldabpilaq', ''stars'',\n",
       "       'httpst.cowpjim8n7m2', '@bobzilla305', 'lady..', '@discjocke52',\n",
       "       'commun..', '@dusty_radio',\n",
       "       ...\n",
       "       '@tftamt', '37.', 'downlost', 'waysad', '@bollingsballs', 'welltough',\n",
       "       '@classiced', '@bomoca', '@aboubacarmande', 'httpst.conwsz5tgz5e'],\n",
       "      dtype='object', length=40454)"
      ]
     },
     "execution_count": 6,
     "metadata": {},
     "output_type": "execute_result"
    }
   ],
   "source": [
    "words_to_remove"
   ]
  },
  {
   "cell_type": "code",
   "execution_count": 7,
   "metadata": {},
   "outputs": [],
   "source": [
    "counts = []\n",
    "for sentence in data:\n",
    "    count = 0\n",
    "    for word in list(sentence):\n",
    "        if word in words_to_remove:\n",
    "            sentence.remove(word)\n",
    "            count += 1\n",
    "    \n",
    "    counts.append(count)"
   ]
  },
  {
   "cell_type": "code",
   "execution_count": 8,
   "metadata": {},
   "outputs": [
    {
     "name": "stdout",
     "output_type": "stream",
     "text": [
      "Number of affected sentences: 28922\n"
     ]
    }
   ],
   "source": [
    "print(f'Number of affected sentences: {np.sum(np.array(counts) > 0)}')"
   ]
  },
  {
   "cell_type": "code",
   "execution_count": 9,
   "metadata": {},
   "outputs": [
    {
     "name": "stdout",
     "output_type": "stream",
     "text": [
      "Total number of sentences: 70524\n"
     ]
    }
   ],
   "source": [
    "print(f\"Total number of sentences: {len(counts)}\")"
   ]
  },
  {
   "cell_type": "code",
   "execution_count": 10,
   "metadata": {},
   "outputs": [],
   "source": [
    "empty_sentences = []\n",
    "for i in range(len(data)):\n",
    "    sentence = data[i]\n",
    "    if len(sentence) == 0:\n",
    "        empty_sentences.append(i)\n",
    "\n",
    "data = np.delete(data, empty_sentences)"
   ]
  },
  {
   "cell_type": "code",
   "execution_count": 11,
   "metadata": {},
   "outputs": [
    {
     "name": "stdout",
     "output_type": "stream",
     "text": [
      "-republicans and democrats have both created our economic problems\n",
      "-i was thrilled to be back in the great city of charlotte north carolina with thousands of hardworking american patriots who love our country cherish our values respect our laws and always put america first thank you for a wonderful evening #kag2020\n",
      "-@cbs_herridge read letter to surveillance court obtained by cbs news questions where there will be further disciplinary action and\n",
      "-the unsolicited mail in ballot scam is a major threat to our democracy amp the democrats know it\n",
      "-almost all recent elections using this system even though much smaller amp with far fewer ballots to count have ended up being a disaster\n"
     ]
    }
   ],
   "source": [
    "for sentence in data[:5]:\n",
    "    print('-' + ' '.join(sentence))"
   ]
  },
  {
   "cell_type": "markdown",
   "metadata": {},
   "source": [
    "POS tagging"
   ]
  },
  {
   "cell_type": "code",
   "execution_count": 12,
   "metadata": {},
   "outputs": [
    {
     "name": "stderr",
     "output_type": "stream",
     "text": [
      "[nltk_data] Downloading package averaged_perceptron_tagger to\n",
      "[nltk_data]     C:\\Users\\Marco\\AppData\\Roaming\\nltk_data...\n",
      "[nltk_data]   Package averaged_perceptron_tagger is already up-to-\n",
      "[nltk_data]       date!\n"
     ]
    },
    {
     "data": {
      "text/plain": [
       "True"
      ]
     },
     "execution_count": 12,
     "metadata": {},
     "output_type": "execute_result"
    }
   ],
   "source": [
    "nltk.download('averaged_perceptron_tagger')"
   ]
  },
  {
   "cell_type": "code",
   "execution_count": 13,
   "metadata": {},
   "outputs": [
    {
     "name": "stderr",
     "output_type": "stream",
     "text": [
      "100%|██████████| 70520/70520 [01:43<00:00, 679.12it/s]\n"
     ]
    }
   ],
   "source": [
    "# Get frequencies of part-of-speech (POS) tags. These will be taken into consideration when choosing the next word to generate\n",
    "dict_pos_freq = {}\n",
    "dict_pos_count = {}\n",
    "\n",
    "for sentence in tqdm(data):\n",
    "    words_and_pos_tags = nltk.pos_tag(sentence)\n",
    "    pos_tags = list(zip(*words_and_pos_tags))[1]\n",
    "    for i in range(len(sentence) - window):\n",
    "        preceding = str(pos_tags[i:i+window])\n",
    "        following = pos_tags[i+window]\n",
    "        try:\n",
    "            dict_pos_count[preceding] += 1\n",
    "            try:\n",
    "                # Increase the frequency of seeing the window preceding POSs and then the following POS\n",
    "                dict_pos_freq[preceding][following] += 1\n",
    "            except KeyError:\n",
    "                dict_pos_freq[preceding][following] = 1\n",
    "        except KeyError:\n",
    "            dict_pos_freq[preceding] = {following: 1}\n",
    "            dict_pos_count[preceding] = 1\n",
    "\n",
    "# Normalise each count to obtain a frequency\n",
    "for k1 in dict_pos_freq.keys():\n",
    "    v1 = dict_pos_freq[k1]\n",
    "    count = dict_pos_count[k1]\n",
    "    for k2 in v1.keys():\n",
    "        v1[k2] = v1[k2] / count"
   ]
  },
  {
   "cell_type": "code",
   "execution_count": 16,
   "metadata": {},
   "outputs": [],
   "source": [
    "min_freq = 1\n",
    "for k1 in dict_pos_freq.keys():\n",
    "    v1 = dict_pos_freq[k1]\n",
    "    for k2 in v1.keys():\n",
    "        if v1[k2] < min_freq:\n",
    "            min_freq = v1[k2]"
   ]
  },
  {
   "cell_type": "markdown",
   "metadata": {},
   "source": [
    "# Train"
   ]
  },
  {
   "cell_type": "markdown",
   "metadata": {},
   "source": [
    "Train and get the trained model, the history and the word dictionaries"
   ]
  },
  {
   "cell_type": "code",
   "execution_count": 15,
   "metadata": {},
   "outputs": [
    {
     "name": "stdout",
     "output_type": "stream",
     "text": [
      "Epoch 1/30\n",
      "882/882 [==============================] - 39s 38ms/step - loss: 7.3883 - categorical_accuracy: 0.0461 - val_loss: 7.1579 - val_categorical_accuracy: 0.0459\n",
      "Epoch 2/30\n",
      "882/882 [==============================] - 31s 35ms/step - loss: 7.0091 - categorical_accuracy: 0.0595 - val_loss: 6.9306 - val_categorical_accuracy: 0.0672\n",
      "Epoch 3/30\n",
      "882/882 [==============================] - 31s 35ms/step - loss: 6.7676 - categorical_accuracy: 0.0766 - val_loss: 6.6684 - val_categorical_accuracy: 0.0864\n",
      "Epoch 4/30\n",
      "882/882 [==============================] - 31s 35ms/step - loss: 6.5708 - categorical_accuracy: 0.0888 - val_loss: 6.5250 - val_categorical_accuracy: 0.0972\n",
      "Epoch 5/30\n",
      "882/882 [==============================] - 31s 36ms/step - loss: 6.4015 - categorical_accuracy: 0.1026 - val_loss: 6.3821 - val_categorical_accuracy: 0.1092\n",
      "Epoch 6/30\n",
      "882/882 [==============================] - 32s 36ms/step - loss: 6.3035 - categorical_accuracy: 0.1097 - val_loss: 6.3352 - val_categorical_accuracy: 0.1175\n",
      "Epoch 7/30\n",
      "882/882 [==============================] - 31s 35ms/step - loss: 6.1989 - categorical_accuracy: 0.1192 - val_loss: 6.2660 - val_categorical_accuracy: 0.1218\n",
      "Epoch 8/30\n",
      "882/882 [==============================] - 31s 35ms/step - loss: 6.0914 - categorical_accuracy: 0.1235 - val_loss: 6.1741 - val_categorical_accuracy: 0.1245\n",
      "Epoch 9/30\n",
      "882/882 [==============================] - 31s 35ms/step - loss: 6.0147 - categorical_accuracy: 0.1284 - val_loss: 6.1956 - val_categorical_accuracy: 0.1275\n",
      "Epoch 10/30\n",
      "882/882 [==============================] - 31s 35ms/step - loss: 5.9817 - categorical_accuracy: 0.1325 - val_loss: 6.1018 - val_categorical_accuracy: 0.1355\n",
      "Epoch 11/30\n",
      "882/882 [==============================] - 31s 36ms/step - loss: 5.8747 - categorical_accuracy: 0.1379 - val_loss: 6.0828 - val_categorical_accuracy: 0.1349\n",
      "Epoch 12/30\n",
      "882/882 [==============================] - 31s 35ms/step - loss: 5.8147 - categorical_accuracy: 0.1414 - val_loss: 6.0012 - val_categorical_accuracy: 0.1444\n",
      "Epoch 13/30\n",
      "882/882 [==============================] - 31s 35ms/step - loss: 5.7479 - categorical_accuracy: 0.1483 - val_loss: 5.9858 - val_categorical_accuracy: 0.1447\n",
      "Epoch 14/30\n",
      "882/882 [==============================] - 31s 36ms/step - loss: 5.6361 - categorical_accuracy: 0.1519 - val_loss: 5.9884 - val_categorical_accuracy: 0.1501\n",
      "Epoch 15/30\n",
      "882/882 [==============================] - 31s 35ms/step - loss: 5.6144 - categorical_accuracy: 0.1539 - val_loss: 5.9110 - val_categorical_accuracy: 0.1503\n",
      "Epoch 16/30\n",
      "882/882 [==============================] - 32s 36ms/step - loss: 5.5497 - categorical_accuracy: 0.1586 - val_loss: 5.9179 - val_categorical_accuracy: 0.1536\n",
      "Epoch 17/30\n",
      "882/882 [==============================] - 31s 35ms/step - loss: 5.5405 - categorical_accuracy: 0.1586 - val_loss: 5.8731 - val_categorical_accuracy: 0.1554\n",
      "Epoch 18/30\n",
      "882/882 [==============================] - 31s 35ms/step - loss: 5.4236 - categorical_accuracy: 0.1702 - val_loss: 5.8545 - val_categorical_accuracy: 0.1605\n",
      "Epoch 19/30\n",
      "882/882 [==============================] - 31s 35ms/step - loss: 5.4165 - categorical_accuracy: 0.1684 - val_loss: 5.9461 - val_categorical_accuracy: 0.1528\n",
      "Epoch 20/30\n",
      "882/882 [==============================] - 31s 36ms/step - loss: 5.3621 - categorical_accuracy: 0.1726 - val_loss: 5.8188 - val_categorical_accuracy: 0.1614\n",
      "Epoch 21/30\n",
      "882/882 [==============================] - 31s 36ms/step - loss: 5.3250 - categorical_accuracy: 0.1735 - val_loss: 5.8710 - val_categorical_accuracy: 0.1621\n",
      "Epoch 22/30\n",
      "882/882 [==============================] - 31s 35ms/step - loss: 5.2276 - categorical_accuracy: 0.1811 - val_loss: 5.8142 - val_categorical_accuracy: 0.1664\n",
      "Epoch 23/30\n",
      "882/882 [==============================] - 31s 36ms/step - loss: 5.2123 - categorical_accuracy: 0.1824 - val_loss: 5.8069 - val_categorical_accuracy: 0.1693\n",
      "Epoch 24/30\n",
      "882/882 [==============================] - 31s 36ms/step - loss: 5.2088 - categorical_accuracy: 0.1827 - val_loss: 5.8097 - val_categorical_accuracy: 0.1736\n",
      "Epoch 25/30\n",
      "882/882 [==============================] - 31s 35ms/step - loss: 5.1353 - categorical_accuracy: 0.1823 - val_loss: 5.8741 - val_categorical_accuracy: 0.1620\n",
      "Epoch 26/30\n",
      "882/882 [==============================] - 31s 35ms/step - loss: 5.1256 - categorical_accuracy: 0.1873 - val_loss: 5.8824 - val_categorical_accuracy: 0.1656\n",
      "Epoch 27/30\n",
      "882/882 [==============================] - 31s 35ms/step - loss: 5.0624 - categorical_accuracy: 0.1907 - val_loss: 5.8217 - val_categorical_accuracy: 0.1669\n",
      "Epoch 28/30\n",
      "882/882 [==============================] - 31s 35ms/step - loss: 5.0412 - categorical_accuracy: 0.1941 - val_loss: 5.8366 - val_categorical_accuracy: 0.1705\n",
      "Epoch 29/30\n",
      "882/882 [==============================] - 31s 35ms/step - loss: 5.0007 - categorical_accuracy: 0.1955 - val_loss: 5.8605 - val_categorical_accuracy: 0.1696\n",
      "Epoch 30/30\n",
      "882/882 [==============================] - 31s 35ms/step - loss: 4.9513 - categorical_accuracy: 0.1985 - val_loss: 5.7588 - val_categorical_accuracy: 0.1748\n"
     ]
    }
   ],
   "source": [
    "model, history, dicts, _ = tweeterator.train(data, net_type, latent_dim, n_units, window, dropout, batch_size, epochs, learning_rate,\n",
    "                                             perc_val, n_hidden_layers, shuffle)"
   ]
  },
  {
   "cell_type": "markdown",
   "metadata": {},
   "source": [
    "Visualise training results"
   ]
  },
  {
   "cell_type": "code",
   "execution_count": 18,
   "metadata": {},
   "outputs": [
    {
     "data": {
      "text/plain": [
       "<matplotlib.legend.Legend at 0x1e79fde0a60>"
      ]
     },
     "execution_count": 18,
     "metadata": {},
     "output_type": "execute_result"
    },
    {
     "data": {
      "image/png": "[encoded data removed]",
      "text/plain": [
       "<Figure size 900x600 with 1 Axes>"
      ]
     },
     "metadata": {
      "needs_background": "light"
     },
     "output_type": "display_data"
    },
    {
     "data": {
      "image/png": "[encoded data removed]",
      "text/plain": [
       "<Figure size 900x600 with 1 Axes>"
      ]
     },
     "metadata": {
      "needs_background": "light"
     },
     "output_type": "display_data"
    }
   ],
   "source": [
    "plt.figure(dpi=150)\n",
    "plt.plot(history.history['loss'], label='loss')\n",
    "plt.plot(history.history['val_loss'], label='val_loss')\n",
    "plt.xlabel('Epoch')\n",
    "plt.legend()\n",
    "\n",
    "plt.figure(dpi=150)\n",
    "plt.plot(history.history['categorical_accuracy'], label='categorical_accuracy')\n",
    "plt.plot(history.history['val_categorical_accuracy'], label='val_categorical_accuracy')\n",
    "plt.xlabel('Epoch')\n",
    "plt.legend()"
   ]
  },
  {
   "cell_type": "markdown",
   "metadata": {},
   "source": [
    "# Test"
   ]
  },
  {
   "cell_type": "markdown",
   "metadata": {},
   "source": [
    "Take a random sentence and start generating text from its first words"
   ]
  },
  {
   "cell_type": "code",
   "execution_count": 19,
   "metadata": {},
   "outputs": [],
   "source": [
    "w2i = dicts['word2int']\n",
    "i2w = dicts['int2word']"
   ]
  },
  {
   "cell_type": "code",
   "execution_count": 20,
   "metadata": {},
   "outputs": [],
   "source": [
    "sentence = data[np.random.choice(data.size, 1)]\n",
    "gen = DataGenerator(sentence, w2i, window, 1, shuffle=False)\n",
    "test_example = next(gen)"
   ]
  },
  {
   "cell_type": "code",
   "execution_count": 45,
   "metadata": {},
   "outputs": [],
   "source": [
    "deterministic = False\n",
    "use_pos_info = True"
   ]
  },
  {
   "cell_type": "code",
   "execution_count": 48,
   "metadata": {},
   "outputs": [],
   "source": [
    "output_size = 40\n",
    "output_int = np.empty(output_size, dtype=int)\n",
    "\n",
    "# Set the first window elements to the start of the phrase\n",
    "output_int[:window] = test_example[0]\n",
    "\n",
    "# Predict the next word from the preceding ones (using the words already predicted)\n",
    "for i in range(0, output_int.size - window):\n",
    "    input_int = output_int[np.newaxis, i:window+i, np.newaxis]\n",
    "    prediction = model(input_int).numpy()[0]\n",
    "    \n",
    "    if use_pos_info:\n",
    "        input_str = [i2w[ii] for ii in output_int[i:window+i]]\n",
    "        words_and_pos_tags = nltk.pos_tag(input_str)\n",
    "        pos_tags = list(zip(*words_and_pos_tags))[1]\n",
    "        preceding = str(pos_tags)\n",
    "        try:\n",
    "            pos_freqs = dict_pos_freq[preceding]\n",
    "        except KeyError:\n",
    "            pos_freqs = None\n",
    "        \n",
    "        best_guesses = np.argsort(prediction)[::-1][:10]\n",
    "        posterior = []\n",
    "        for guess in best_guesses:\n",
    "            # Get the POS tag for the examined word\n",
    "            test_str = input_str + [i2w[guess]]\n",
    "\n",
    "            guess_pos = nltk.pos_tag(test_str)[-1][1]\n",
    "            try:\n",
    "                pos_prob = pos_freqs[guess_pos]\n",
    "            except KeyError:\n",
    "                # If this sequence was never observed give it a probability equal to the minimum frequence observed\n",
    "                pos_prob = min_freq\n",
    "            except TypeError:\n",
    "                # if pos_freqs is None because the sequence was not found in the trining data, do not vary the\n",
    "                # predictions\n",
    "                pos_prob = 1\n",
    "\n",
    "            prior = prediction[guess]\n",
    "\n",
    "            posterior.append(prior * pos_prob)\n",
    "    \n",
    "        if deterministic:\n",
    "            chosen_guess = np.argmax(posterior)\n",
    "        else:\n",
    "            posterior = np.array(posterior) / np.sum(posterior)\n",
    "            chosen_guess = np.random.choice(range(len(posterior)), 1, p=posterior)[0]\n",
    "        \n",
    "        word_int = best_guesses[chosen_guess]\n",
    "    else:\n",
    "        if deterministic:\n",
    "            word_int = np.argmax(prediction)\n",
    "        else:\n",
    "            word_int = np.random.choice(range(len(prediction)), 1, p=prediction)[0]\n",
    "\n",
    "    output_int[window + i] = word_int\n",
    "\n",
    "# Convert integers to words\n",
    "output = []\n",
    "for i in range(len(output_int)):\n",
    "    word_int = output_int[i]\n",
    "    word = i2w[word_int]\n",
    "    output.append(word)"
   ]
  },
  {
   "cell_type": "markdown",
   "metadata": {},
   "source": [
    "Visualise the produced output"
   ]
  },
  {
   "cell_type": "code",
   "execution_count": 49,
   "metadata": {},
   "outputs": [
    {
     "data": {
      "text/plain": [
       "'republicans at hearing find no polling mandarin spoken than any other country in the world amp i have been asking to be president obama will have a great governor of virginia with north carolina in south carolina was great httpst.cobefd1v77nf'"
      ]
     },
     "execution_count": 49,
     "metadata": {},
     "output_type": "execute_result"
    }
   ],
   "source": [
    "' '.join(output)"
   ]
  },
  {
   "cell_type": "code",
   "execution_count": null,
   "metadata": {},
   "outputs": [],
   "source": []
  }
 ],
 "metadata": {
  "interpreter": {
   "hash": "f28d49bc86e1b30cc53634441a90f77c016f9cae5b9cd2f4304fa8d50ea4bfc9"
  },
  "kernelspec": {
   "display_name": "Python 3.9.7 64-bit ('text': conda)",
   "language": "python",
   "name": "python3"
  },
  "language_info": {
   "codemirror_mode": {
    "name": "ipython",
    "version": 3
   },
   "file_extension": ".py",
   "mimetype": "text/x-python",
   "name": "python",
   "nbconvert_exporter": "python",
   "pygments_lexer": "ipython3",
   "version": "3.9.7"
  },
  "orig_nbformat": 4
 },
 "nbformat": 4,
 "nbformat_minor": 2
}
